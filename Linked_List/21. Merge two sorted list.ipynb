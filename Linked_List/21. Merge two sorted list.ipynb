{
 "cells": [
  {
   "cell_type": "code",
   "execution_count": 3,
   "metadata": {},
   "outputs": [],
   "source": [
    "# Definition for singly-linked list.\n",
    "class ListNode:\n",
    "    def __init__(self, x):\n",
    "        self.val = x\n",
    "        self.next = None\n",
    "\n",
    "\n",
    "def mergeTwoLists(l1, l2):\n",
    "\n",
    "    # think in terms of nodes\n",
    "\n",
    "    head = ListNode(float(\"-inf\"))\n",
    "\n",
    "    curr = head\n",
    "\n",
    "    while l1 and l2:\n",
    "\n",
    "        if l1.val <= l2.val:\n",
    "            curr.next = l1 #assign the whole node\n",
    "            l1 = l1.next # go to next node\n",
    "\n",
    "        else:\n",
    "            curr.next = l2 # assigh the whole node\n",
    "            l2 = l2.next\n",
    "\n",
    "        curr = curr.next # go to next node\n",
    "\n",
    "    curr.next = l1 if l1 else l2\n",
    "\n",
    "    return head.next"
   ]
  },
  {
   "cell_type": "markdown",
   "metadata": {},
   "source": [
    "## Learnings\n",
    "\n",
    "- always try to initialize the head or dummy, here in that case it can have a value 0 or something else.\n",
    "- use the above structure for the List node, it is so simple\n",
    "- While l1 and l2 means till l1 an dl2 are over\n",
    "\n",
    "checkout [comparison]https://leetcode.com/problems/merge-two-sorted-lists/discuss/9735/Python-solutions-(iteratively-recursively-iteratively-in-place)."
   ]
  },
  {
   "cell_type": "code",
   "execution_count": null,
   "metadata": {},
   "outputs": [],
   "source": []
  }
 ],
 "metadata": {
  "kernelspec": {
   "display_name": "Python 3",
   "language": "python",
   "name": "python3"
  },
  "language_info": {
   "codemirror_mode": {
    "name": "ipython",
    "version": 3
   },
   "file_extension": ".py",
   "mimetype": "text/x-python",
   "name": "python",
   "nbconvert_exporter": "python",
   "pygments_lexer": "ipython3",
   "version": "3.7.3"
  }
 },
 "nbformat": 4,
 "nbformat_minor": 2
}
