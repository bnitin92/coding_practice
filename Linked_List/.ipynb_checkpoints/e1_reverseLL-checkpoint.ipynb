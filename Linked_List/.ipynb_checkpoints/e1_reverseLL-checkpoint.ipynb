{
 "cells": [
  {
   "cell_type": "code",
   "execution_count": 1,
   "metadata": {},
   "outputs": [
    {
     "data": {
      "text/plain": [
       "'\\n    * head is a node pointing to first list in the first node of LL\\n    * use the self.next variable to store the previous one and point then finally it will reverse\\n\\n'"
      ]
     },
     "execution_count": 1,
     "metadata": {},
     "output_type": "execute_result"
    }
   ],
   "source": [
    "# Things to know \n",
    "\"\"\"\n",
    "    * head is a node pointing to first list in the first node of LL\n",
    "    * use the self.next variable to store the previous one and point then finally it will reverse\n",
    "\n",
    "\"\"\""
   ]
  },
  {
   "cell_type": "code",
   "execution_count": 14,
   "metadata": {},
   "outputs": [],
   "source": [
    "from __future__ import print_function\n",
    "\n",
    "class Node:\n",
    "    def __init__(self, value):\n",
    "        self.val = value\n",
    "        self.next = None\n",
    "        \n",
    "    def print_list(self):\n",
    "        temp = self\n",
    "        while temp:\n",
    "            print(temp.val, end=\" \")\n",
    "            temp = temp.next\n",
    "        print()"
   ]
  },
  {
   "cell_type": "code",
   "execution_count": 15,
   "metadata": {},
   "outputs": [],
   "source": [
    "def reverse(head):\n",
    "    current = head\n",
    "    previous = None\n",
    "    \n",
    "    while current:\n",
    "        nextNode = current.next\n",
    "        current.next = previous\n",
    "        previous = current\n",
    "        current = nextNode\n",
    "        \n",
    "    return previous"
   ]
  },
  {
   "cell_type": "code",
   "execution_count": 16,
   "metadata": {},
   "outputs": [
    {
     "name": "stdout",
     "output_type": "stream",
     "text": [
      "2 4 6 8 10 \n",
      "10 8 6 4 2 \n"
     ]
    }
   ],
   "source": [
    "def main():\n",
    "    head = Node(2)\n",
    "    head.next = Node(4)\n",
    "    head.next.next = Node(6)\n",
    "    head.next.next.next = Node(8)\n",
    "    head.next.next.next.next = Node(10)\n",
    "    \n",
    "    head.print_list()\n",
    "    result = reverse(head)\n",
    "    result.print_list()\n",
    "    \n",
    "main()"
   ]
  },
  {
   "cell_type": "code",
   "execution_count": null,
   "metadata": {},
   "outputs": [],
   "source": []
  },
  {
   "cell_type": "code",
   "execution_count": null,
   "metadata": {},
   "outputs": [],
   "source": []
  }
 ],
 "metadata": {
  "kernelspec": {
   "display_name": "Python 3",
   "language": "python",
   "name": "python3"
  },
  "language_info": {
   "codemirror_mode": {
    "name": "ipython",
    "version": 3
   },
   "file_extension": ".py",
   "mimetype": "text/x-python",
   "name": "python",
   "nbconvert_exporter": "python",
   "pygments_lexer": "ipython3",
   "version": "3.7.6"
  }
 },
 "nbformat": 4,
 "nbformat_minor": 4
}
