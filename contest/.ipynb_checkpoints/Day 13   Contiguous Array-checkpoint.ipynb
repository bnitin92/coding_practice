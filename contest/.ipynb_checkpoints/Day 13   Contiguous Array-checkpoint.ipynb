{
 "cells": [
  {
   "cell_type": "code",
   "execution_count": 5,
   "metadata": {},
   "outputs": [],
   "source": [
    "## Sol 1\n",
    "\n",
    "def findMaxLength(nums) -> int:\n",
    "        \n",
    "        stack = []\n",
    "        max_continous = 0\n",
    "        curr_continous = 0\n",
    "        \n",
    "        # for starting 0 and then 1\n",
    "        prev = 1\n",
    "        for i in nums:\n",
    "            if i == 0:\n",
    "                if prev == 1:\n",
    "                    if curr_continous > max_continous:\n",
    "                        max_continous = curr_continous\n",
    "                        curr_continous = 0\n",
    "                    else:\n",
    "                        curr_continous = 0\n",
    "                        stack = []\n",
    "                        stack.append(i)\n",
    "                        prev = 0\n",
    "                else:\n",
    "                    stack.append(i)\n",
    "                    prev = 0\n",
    "            else: # if is is 1\n",
    "                if stack:\n",
    "                    stack.pop()\n",
    "                    curr_continous += 2\n",
    "                    prev = 1\n",
    "                \n",
    "        # for starting 1 and then 0\n",
    "        prev = 0\n",
    "        for i in nums:\n",
    "            if i == 1:\n",
    "                if prev == 0:\n",
    "                    if curr_continous > max_continous:\n",
    "                        max_continous = curr_continous\n",
    "                        curr_continous = 0\n",
    "                    else:\n",
    "                        curr_continous = 0\n",
    "                        stack = []\n",
    "                        stack.append(i)\n",
    "                        prev = 1\n",
    "                else:\n",
    "                    stack.append(i)\n",
    "                    prev = 1\n",
    "            else: # if is is 1\n",
    "                if stack:\n",
    "                    stack.pop()\n",
    "                    curr_continous += 2\n",
    "                    prev = 0\n",
    "                \n",
    "        return max_continous\n",
    "        \n",
    "                "
   ]
  },
  {
   "cell_type": "code",
   "execution_count": 8,
   "metadata": {},
   "outputs": [
    {
     "data": {
      "text/plain": [
       "2"
      ]
     },
     "execution_count": 8,
     "metadata": {},
     "output_type": "execute_result"
    }
   ],
   "source": [
    "findMaxLength([0,1,0,1])"
   ]
  },
  {
   "cell_type": "code",
   "execution_count": null,
   "metadata": {},
   "outputs": [],
   "source": []
  }
 ],
 "metadata": {
  "kernelspec": {
   "display_name": "Python 3",
   "language": "python",
   "name": "python3"
  },
  "language_info": {
   "codemirror_mode": {
    "name": "ipython",
    "version": 3
   },
   "file_extension": ".py",
   "mimetype": "text/x-python",
   "name": "python",
   "nbconvert_exporter": "python",
   "pygments_lexer": "ipython3",
   "version": "3.7.3"
  }
 },
 "nbformat": 4,
 "nbformat_minor": 2
}
