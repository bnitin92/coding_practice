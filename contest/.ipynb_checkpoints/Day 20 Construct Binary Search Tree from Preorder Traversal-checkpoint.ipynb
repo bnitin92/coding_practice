{
 "cells": [
  {
   "cell_type": "code",
   "execution_count": 3,
   "metadata": {},
   "outputs": [],
   "source": [
    "## Sol 1\n",
    "\n",
    "# Definition for a binary tree node.\n",
    "class TreeNode:\n",
    "    def __init__(self, x):\n",
    "        self.val = x\n",
    "        self.left = None\n",
    "        self.right = None\n",
    "\n",
    "\n",
    "def bstFromPreorder(preorder):\n",
    "        \n",
    "    root = TreeNode(preorder.pop(0))\n",
    "    \n",
    "    for element in preorder:\n",
    "        curr = root\n",
    "        \n",
    "        while curr != None:\n",
    "            if curr.val > element:\n",
    "                if curr.left == None:\n",
    "                    curr.left = TreeNode(element)\n",
    "                    curr = None\n",
    "                else:\n",
    "                    curr = curr.left\n",
    "            else:\n",
    "                if curr.right == None:\n",
    "                    curr.right = TreeNode(element)\n",
    "                    curr = None\n",
    "                else:\n",
    "                    curr = curr.right\n",
    "    \n",
    "    return root"
   ]
  },
  {
   "cell_type": "code",
   "execution_count": 4,
   "metadata": {},
   "outputs": [
    {
     "data": {
      "text/plain": [
       "<__main__.TreeNode at 0x1075d70f0>"
      ]
     },
     "execution_count": 4,
     "metadata": {},
     "output_type": "execute_result"
    }
   ],
   "source": [
    "bstFromPreorder([8,5,1,7,10,12])"
   ]
  },
  {
   "cell_type": "code",
   "execution_count": null,
   "metadata": {},
   "outputs": [],
   "source": []
  }
 ],
 "metadata": {
  "kernelspec": {
   "display_name": "Python 3",
   "language": "python",
   "name": "python3"
  },
  "language_info": {
   "codemirror_mode": {
    "name": "ipython",
    "version": 3
   },
   "file_extension": ".py",
   "mimetype": "text/x-python",
   "name": "python",
   "nbconvert_exporter": "python",
   "pygments_lexer": "ipython3",
   "version": "3.7.3"
  }
 },
 "nbformat": 4,
 "nbformat_minor": 2
}
