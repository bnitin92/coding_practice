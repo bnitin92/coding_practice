{
 "cells": [
  {
   "cell_type": "code",
   "execution_count": null,
   "metadata": {},
   "outputs": [],
   "source": [
    "## Sol 1\n",
    "\n",
    "def numIslands(grid) -> int:\n",
    "    \n",
    "    for i, vali in enumerate(grid):\n",
    "        for j, valj in enumerate(vali):\n",
    "            neighbours = 0\n",
    "            \n",
    "            if valj == 1:\n",
    "                isIsland(i, j,)\n"
   ]
  },
  {
   "cell_type": "code",
   "execution_count": 1,
   "metadata": {},
   "outputs": [],
   "source": [
    "def isIsland(i, j):\n",
    "    neighbours = 0\n",
    "    n = int(grid[i-1][j])\n",
    "    e = int(grid[i][j+1])\n",
    "    s = int(grid[i+1][j])\n",
    "    w = int(grid[i][j-1])\n",
    "    \n",
    "    neighbours = n + e + s + w\n",
    "    \n",
    "    if neighbours <= 1:\n",
    "        return True\n",
    "    else:\n",
    "        return False"
   ]
  },
  {
   "cell_type": "code",
   "execution_count": null,
   "metadata": {},
   "outputs": [],
   "source": [
    "grid = [['1',]]"
   ]
  }
 ],
 "metadata": {
  "kernelspec": {
   "display_name": "Python 3",
   "language": "python",
   "name": "python3"
  },
  "language_info": {
   "codemirror_mode": {
    "name": "ipython",
    "version": 3
   },
   "file_extension": ".py",
   "mimetype": "text/x-python",
   "name": "python",
   "nbconvert_exporter": "python",
   "pygments_lexer": "ipython3",
   "version": "3.7.3"
  }
 },
 "nbformat": 4,
 "nbformat_minor": 2
}
