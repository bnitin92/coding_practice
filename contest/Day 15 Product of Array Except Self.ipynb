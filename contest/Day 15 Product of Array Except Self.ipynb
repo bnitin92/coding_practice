{
 "cells": [
  {
   "cell_type": "code",
   "execution_count": 2,
   "metadata": {},
   "outputs": [],
   "source": [
    "## Sol 1\n",
    "'''\n",
    "Time = O(n2)\n",
    "Space = O(n)\n",
    "'''\n",
    "\n",
    "\n",
    "def productExceptSelf(nums):\n",
    "    res = []\n",
    "    \n",
    "    for i, vali in enumerate(nums):\n",
    "        mul = 1\n",
    "        for j, val in enumerate(nums):\n",
    "            if i != j:\n",
    "                mul *= val\n",
    "        res.append(mul)\n",
    "    \n",
    "    return res\n"
   ]
  },
  {
   "cell_type": "code",
   "execution_count": 3,
   "metadata": {},
   "outputs": [
    {
     "data": {
      "text/plain": [
       "[24, 12, 8, 6]"
      ]
     },
     "execution_count": 3,
     "metadata": {},
     "output_type": "execute_result"
    }
   ],
   "source": [
    "productExceptSelf([1,2,3,4])"
   ]
  },
  {
   "cell_type": "code",
   "execution_count": 6,
   "metadata": {},
   "outputs": [],
   "source": [
    "# Sol 2\n",
    "## wont work if one element is 0 eg [1,0]\n",
    "\n",
    "import numpy\n",
    "def productExceptSelf2(nums):\n",
    "    \n",
    "    res = []\n",
    "    \n",
    "    list_product = numpy.prod(nums)\n",
    "    \n",
    "    for i in nums:\n",
    "        res.append(list_product//i)\n",
    "    \n",
    "    return res\n",
    "\n"
   ]
  },
  {
   "cell_type": "code",
   "execution_count": 7,
   "metadata": {},
   "outputs": [
    {
     "data": {
      "text/plain": [
       "[24, 12, 8, 6]"
      ]
     },
     "execution_count": 7,
     "metadata": {},
     "output_type": "execute_result"
    }
   ],
   "source": [
    "productExceptSelf2([1,2,3,4])"
   ]
  },
  {
   "cell_type": "code",
   "execution_count": 11,
   "metadata": {},
   "outputs": [],
   "source": [
    "# Sol 3\n",
    "## using Queue\n",
    "import numpy\n",
    "def productExceptSelf3(nums):\n",
    "    res = []\n",
    "    #n = nums\n",
    "    i = len(nums)\n",
    "    \n",
    "    while i > 0:\n",
    "        element_out = nums.pop(0)\n",
    "        res.append(numpy.prod(nums))\n",
    "        nums.append(element_out)\n",
    "        i -= 1\n",
    "    \n",
    "    return res\n"
   ]
  },
  {
   "cell_type": "code",
   "execution_count": 13,
   "metadata": {},
   "outputs": [
    {
     "data": {
      "text/plain": [
       "[24, 12, 8, 6]"
      ]
     },
     "execution_count": 13,
     "metadata": {},
     "output_type": "execute_result"
    }
   ],
   "source": [
    "productExceptSelf3([1,2,3,4])"
   ]
  },
  {
   "cell_type": "code",
   "execution_count": null,
   "metadata": {},
   "outputs": [],
   "source": []
  }
 ],
 "metadata": {
  "kernelspec": {
   "display_name": "Python 3",
   "language": "python",
   "name": "python3"
  },
  "language_info": {
   "codemirror_mode": {
    "name": "ipython",
    "version": 3
   },
   "file_extension": ".py",
   "mimetype": "text/x-python",
   "name": "python",
   "nbconvert_exporter": "python",
   "pygments_lexer": "ipython3",
   "version": "3.7.3"
  }
 },
 "nbformat": 4,
 "nbformat_minor": 2
}
