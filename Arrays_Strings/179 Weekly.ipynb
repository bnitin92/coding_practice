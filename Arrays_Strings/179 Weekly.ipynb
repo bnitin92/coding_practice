{
 "cells": [
  {
   "cell_type": "code",
   "execution_count": 3,
   "metadata": {},
   "outputs": [
    {
     "data": {
      "text/plain": [
       "'a'"
      ]
     },
     "execution_count": 3,
     "metadata": {},
     "output_type": "execute_result"
    }
   ],
   "source": [
    "chr(97)"
   ]
  },
  {
   "cell_type": "code",
   "execution_count": 5,
   "metadata": {},
   "outputs": [
    {
     "name": "stdout",
     "output_type": "stream",
     "text": [
      "['a', 'b', 'c', 'd', 'e', 'f', 'g', 'h', 'i', 'j', 'k', 'l', 'm', 'n', 'o', 'p', 'q', 'r', 's', 't', 'u', 'v', 'w', 'x', 'y', 'z']\n"
     ]
    }
   ],
   "source": [
    "a = []\n",
    "for i in range(97, 97+26):\n",
    "    a.append(chr(i))\n",
    "    \n",
    "print(a)"
   ]
  },
  {
   "cell_type": "code",
   "execution_count": 13,
   "metadata": {},
   "outputs": [
    {
     "name": "stdout",
     "output_type": "stream",
     "text": [
      "a\n"
     ]
    }
   ],
   "source": [
    "for i in range(0,1):\n",
    "    print(a[i])"
   ]
  },
  {
   "cell_type": "code",
   "execution_count": 29,
   "metadata": {},
   "outputs": [],
   "source": [
    "def generateTheString(n):\n",
    "    \n",
    "    alpha = []\n",
    "    for i in range(97, 97+26):\n",
    "        alpha.append(chr(i))\n",
    "        \n",
    "    result = ''\n",
    "    \n",
    "    q25 = n // 25\n",
    "    r25 = n % 25\n",
    "    index = 0\n",
    "    \n",
    "    \n",
    "        \n",
    "    for i in range(index, q25 + index):\n",
    "        result += 25 * alpha[i]\n",
    "\n",
    "    index += q25\n",
    "        \n",
    "\n",
    "    q7 = r25 // 7\n",
    "    r7 = r25 % 7\n",
    "\n",
    "\n",
    "    for i in range(index, q7+index):\n",
    "        result += 7 * alpha[i]\n",
    "\n",
    "    index += q7\n",
    "\n",
    "\n",
    "            \n",
    "    q3 = r7 // 3\n",
    "    r3 = r7 % 3\n",
    "            \n",
    "    for i in range(index, q3+index):\n",
    "        result += 3 * alpha[i]\n",
    "\n",
    "    index += q3\n",
    "                \n",
    "    for i in range(index, r3+index):\n",
    "        result += 1 * alpha[i]\n",
    "            \n",
    "            \n",
    "    return result    \n",
    "    "
   ]
  },
  {
   "cell_type": "code",
   "execution_count": 35,
   "metadata": {},
   "outputs": [
    {
     "data": {
      "text/plain": [
       "'aaaaaaabbbbbbb'"
      ]
     },
     "execution_count": 35,
     "metadata": {},
     "output_type": "execute_result"
    }
   ],
   "source": [
    "generateTheString(14)"
   ]
  },
  {
   "cell_type": "code",
   "execution_count": 36,
   "metadata": {},
   "outputs": [
    {
     "data": {
      "text/plain": [
       "[0, 0, 0, 0]"
      ]
     },
     "execution_count": 36,
     "metadata": {},
     "output_type": "execute_result"
    }
   ],
   "source": [
    "[0] * 4"
   ]
  },
  {
   "cell_type": "code",
   "execution_count": 43,
   "metadata": {},
   "outputs": [],
   "source": [
    "def numTimesAllBlue(light):\n",
    "    \n",
    "    light_length = len(light)\n",
    "    \n",
    "    light_on = [0] * light_length\n",
    "    \n",
    "    result = 0\n",
    "    \n",
    "    highest_lig_pos_on = 0\n",
    "    \n",
    "    for bulb_pos in light:\n",
    "        if bulb_pos > highest_lig_pos_on:\n",
    "            highest_lig_pos_on = bulb_pos\n",
    "        \n",
    "        light_on[bulb_pos-1] += 1\n",
    "        \n",
    "        light_blue = 0\n",
    "        for i in range(highest_lig_pos_on):\n",
    "            light_blue += light_on[i]\n",
    "            \n",
    "        print(light_blue)  \n",
    "        if light_blue == highest_lig_pos_on:\n",
    "            result += 1\n",
    "            \n",
    "    \n",
    "    return result"
   ]
  },
  {
   "cell_type": "code",
   "execution_count": 44,
   "metadata": {},
   "outputs": [
    {
     "name": "stdout",
     "output_type": "stream",
     "text": [
      "1\n",
      "2\n",
      "3\n",
      "4\n"
     ]
    },
    {
     "data": {
      "text/plain": [
       "1"
      ]
     },
     "execution_count": 44,
     "metadata": {},
     "output_type": "execute_result"
    }
   ],
   "source": [
    "numTimesAllBlue([4,1,2,3])"
   ]
  },
  {
   "cell_type": "code",
   "execution_count": null,
   "metadata": {},
   "outputs": [],
   "source": []
  }
 ],
 "metadata": {
  "kernelspec": {
   "display_name": "Python 3",
   "language": "python",
   "name": "python3"
  },
  "language_info": {
   "codemirror_mode": {
    "name": "ipython",
    "version": 3
   },
   "file_extension": ".py",
   "mimetype": "text/x-python",
   "name": "python",
   "nbconvert_exporter": "python",
   "pygments_lexer": "ipython3",
   "version": "3.7.3"
  }
 },
 "nbformat": 4,
 "nbformat_minor": 2
}
