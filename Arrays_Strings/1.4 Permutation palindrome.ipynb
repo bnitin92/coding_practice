{
 "cells": [
  {
   "cell_type": "markdown",
   "metadata": {},
   "source": [
    "### My method"
   ]
  },
  {
   "cell_type": "code",
   "execution_count": 20,
   "metadata": {},
   "outputs": [],
   "source": [
    "# Permutation\n",
    "\n",
    "from collections import Counter\n",
    "\n",
    "def permutation_palindrome(string):\n",
    "    \n",
    "    count = Counter(string)\n",
    "    \n",
    "    odd = 0\n",
    "    \n",
    "    del count[' '] \n",
    "    \n",
    "    for key, value in count.items():\n",
    "        print(value)\n",
    "        if key == \" \":\n",
    "            pass\n",
    "        if odd > 1:\n",
    "            return False\n",
    "        \n",
    "        if value % 2 != 0:\n",
    "            odd += 1\n",
    "            \n",
    "    return True\n",
    "            "
   ]
  },
  {
   "cell_type": "code",
   "execution_count": 23,
   "metadata": {},
   "outputs": [
    {
     "name": "stdout",
     "output_type": "stream",
     "text": [
      "2\n",
      "2\n",
      "2\n",
      "1\n",
      "1\n",
      "2\n"
     ]
    },
    {
     "data": {
      "text/plain": [
       "False"
      ]
     },
     "execution_count": 23,
     "metadata": {},
     "output_type": "execute_result"
    }
   ],
   "source": [
    "permutation_palindrome(\"tact coaee\")"
   ]
  },
  {
   "cell_type": "code",
   "execution_count": null,
   "metadata": {},
   "outputs": [],
   "source": []
  }
 ],
 "metadata": {
  "kernelspec": {
   "display_name": "Python 3",
   "language": "python",
   "name": "python3"
  },
  "language_info": {
   "codemirror_mode": {
    "name": "ipython",
    "version": 3
   },
   "file_extension": ".py",
   "mimetype": "text/x-python",
   "name": "python",
   "nbconvert_exporter": "python",
   "pygments_lexer": "ipython3",
   "version": "3.7.3"
  }
 },
 "nbformat": 4,
 "nbformat_minor": 2
}
