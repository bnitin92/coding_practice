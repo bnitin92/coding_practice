{
 "cells": [
  {
   "cell_type": "markdown",
   "metadata": {},
   "source": [
    "## My solution"
   ]
  },
  {
   "cell_type": "code",
   "execution_count": 2,
   "metadata": {},
   "outputs": [],
   "source": [
    "# one away\n",
    "\n",
    "def one_away(s1, s2):\n",
    "    if len(s1) == len(s2):\n",
    "        unmatched = 0\n",
    "        for i in range(len(s1)):\n",
    "            if s1[i] != s2[i]:\n",
    "                unmatched += 1\n",
    "        \n",
    "        if unmatched > 1:\n",
    "            return False\n",
    "        else:\n",
    "            return True\n",
    "        \n",
    "    elif len(s1) == len(s2)-1:\n",
    "        missed = 0\n",
    "        \n",
    "        for i in range(len(s2)):\n",
    "            if s1[i] != s2[i]:\n",
    "                if s1[i+1] != s2[i]:\n",
    "                    return False\n",
    "            return True\n",
    "        \n",
    "    elif len(s1)-1 == len(s2):\n",
    "        missed = 0\n",
    "        \n",
    "        for i in range(len(s1)):\n",
    "            if s1[i] != s2[i]:\n",
    "                if s1[i] != s2[i+1]:\n",
    "                    return False\n",
    "            return True \n",
    "        \n",
    "    else:\n",
    "        return False"
   ]
  },
  {
   "cell_type": "code",
   "execution_count": 7,
   "metadata": {},
   "outputs": [
    {
     "data": {
      "text/plain": [
       "False"
      ]
     },
     "execution_count": 7,
     "metadata": {},
     "output_type": "execute_result"
    }
   ],
   "source": [
    "# Testing\n",
    "'''pale, ple -> true pales, pale -> true pale, bale -> true pale, bake -> false'''\n",
    "one_away(\"bake\", \"pale\")"
   ]
  },
  {
   "cell_type": "code",
   "execution_count": null,
   "metadata": {},
   "outputs": [],
   "source": []
  }
 ],
 "metadata": {
  "kernelspec": {
   "display_name": "Python 3",
   "language": "python",
   "name": "python3"
  },
  "language_info": {
   "codemirror_mode": {
    "name": "ipython",
    "version": 3
   },
   "file_extension": ".py",
   "mimetype": "text/x-python",
   "name": "python",
   "nbconvert_exporter": "python",
   "pygments_lexer": "ipython3",
   "version": "3.7.3"
  }
 },
 "nbformat": 4,
 "nbformat_minor": 2
}
