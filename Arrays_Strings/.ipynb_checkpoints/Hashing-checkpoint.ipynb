{
 "cells": [
  {
   "cell_type": "markdown",
   "metadata": {},
   "source": [
    "### Hashtable vs Hashmap\n",
    "\n",
    "- Hash table is like a python dictionary, resizable like dynamic tables in case of java\n",
    "- HT is synchronized and doesnt have null as keys.\n",
    "\n",
    "- Hashmap is unsynchronized and uses null as key and values."
   ]
  },
  {
   "cell_type": "code",
   "execution_count": 4,
   "metadata": {},
   "outputs": [
    {
     "name": "stdout",
     "output_type": "stream",
     "text": [
      "8393540617801790472\n"
     ]
    }
   ],
   "source": [
    "a = 'apple'\n",
    "print(hash(a))"
   ]
  },
  {
   "cell_type": "code",
   "execution_count": 19,
   "metadata": {},
   "outputs": [
    {
     "data": {
      "text/plain": [
       "[None, None, None, None, None, None, None, None]"
      ]
     },
     "execution_count": 19,
     "metadata": {},
     "output_type": "execute_result"
    }
   ],
   "source": [
    "[] * 8\n"
   ]
  },
  {
   "cell_type": "code",
   "execution_count": 20,
   "metadata": {},
   "outputs": [],
   "source": [
    "# Hash Map\n",
    "\n",
    "class HashMap:\n",
    "    def __init__(self):\n",
    "        self.size = 6\n",
    "        self.map = [None] * 8\n",
    "        \n",
    "    def _get_index(self, key):\n",
    "        hash = 0\n",
    "        for char in str(key):\n",
    "            hash += ord(char)\n",
    "            \n",
    "        return hash\n",
    "    "
   ]
  }
 ],
 "metadata": {
  "kernelspec": {
   "display_name": "Python 3",
   "language": "python",
   "name": "python3"
  },
  "language_info": {
   "codemirror_mode": {
    "name": "ipython",
    "version": 3
   },
   "file_extension": ".py",
   "mimetype": "text/x-python",
   "name": "python",
   "nbconvert_exporter": "python",
   "pygments_lexer": "ipython3",
   "version": "3.7.3"
  }
 },
 "nbformat": 4,
 "nbformat_minor": 2
}
