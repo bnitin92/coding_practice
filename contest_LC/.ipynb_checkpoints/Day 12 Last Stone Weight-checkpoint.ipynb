{
 "cells": [
  {
   "cell_type": "code",
   "execution_count": 26,
   "metadata": {},
   "outputs": [],
   "source": [
    "# Sol 1\n",
    "\n",
    "def lastStoneWeight(stones) -> int:\n",
    "    \n",
    "    \n",
    "    while len(stones) > 1: #or len(stones) != 0:\n",
    "        \n",
    "        stones = sorted(stones)\n",
    "        print(stones)\n",
    "        print(len(stones))\n",
    "        y = stones.pop()\n",
    "        x = stones.pop()\n",
    "        \n",
    "        rem = 0\n",
    "        if x != y:\n",
    "            rem = y - x\n",
    "            stones.append(rem)\n",
    "        \n",
    "        \n",
    "        \n",
    "    \n",
    "    if len(stones) == 1:\n",
    "        return(stones[0])\n",
    "    else:\n",
    "        return 0\n"
   ]
  },
  {
   "cell_type": "code",
   "execution_count": 27,
   "metadata": {},
   "outputs": [
    {
     "name": "stdout",
     "output_type": "stream",
     "text": [
      "[1, 1, 2, 4, 7, 8]\n",
      "6\n",
      "[1, 1, 1, 2, 4]\n",
      "5\n",
      "[1, 1, 1, 2]\n",
      "4\n",
      "[1, 1, 1]\n",
      "3\n"
     ]
    },
    {
     "data": {
      "text/plain": [
       "1"
      ]
     },
     "execution_count": 27,
     "metadata": {},
     "output_type": "execute_result"
    }
   ],
   "source": [
    "lastStoneWeight([2,7,4,1,8,1])"
   ]
  },
  {
   "cell_type": "code",
   "execution_count": null,
   "metadata": {},
   "outputs": [],
   "source": []
  }
 ],
 "metadata": {
  "kernelspec": {
   "display_name": "Python 3",
   "language": "python",
   "name": "python3"
  },
  "language_info": {
   "codemirror_mode": {
    "name": "ipython",
    "version": 3
   },
   "file_extension": ".py",
   "mimetype": "text/x-python",
   "name": "python",
   "nbconvert_exporter": "python",
   "pygments_lexer": "ipython3",
   "version": "3.7.3"
  }
 },
 "nbformat": 4,
 "nbformat_minor": 2
}
