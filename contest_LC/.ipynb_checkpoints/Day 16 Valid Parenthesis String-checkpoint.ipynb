{
 "cells": [
  {
   "cell_type": "code",
   "execution_count": 14,
   "metadata": {},
   "outputs": [],
   "source": [
    "## Sol 1\n",
    "\n",
    "'''\n",
    "Wrong\n",
    "'''\n",
    "\n",
    "def checkValidString(s: str) -> bool:\n",
    "    \n",
    "    s_stack = []\n",
    "    p_stack = []\n",
    "    \n",
    "    if s == \"\" or s == \"*\":\n",
    "        return True\n",
    "    \n",
    "    for i in s:\n",
    "        if i == '(':\n",
    "            p_stack.append(i)\n",
    "        elif i == '*':\n",
    "            s_stack.append(i)\n",
    "        else:\n",
    "            if len(p_stack) > 0:\n",
    "                p_stack.pop()\n",
    "            elif len(s_stack) > 0:\n",
    "                s_stack.pop()\n",
    "            else:\n",
    "                return False\n",
    "    \n",
    "    if len(p_stack) == 0:\n",
    "        return True\n",
    "    elif len(p_stack) <= len(s_stack):\n",
    "        return True\n",
    "    else:\n",
    "        return False\n",
    "    "
   ]
  },
  {
   "cell_type": "code",
   "execution_count": 20,
   "metadata": {},
   "outputs": [
    {
     "data": {
      "text/plain": [
       "True"
      ]
     },
     "execution_count": 20,
     "metadata": {},
     "output_type": "execute_result"
    }
   ],
   "source": [
    "checkValidString(\"(())((())()()(*)(*()(())())())()()((()())((()))(*\")"
   ]
  },
  {
   "cell_type": "code",
   "execution_count": 30,
   "metadata": {},
   "outputs": [],
   "source": [
    "## Sol 2\n",
    "\n",
    "'''\n",
    "Wrong\n",
    "'''\n",
    "\n",
    "def checkValidString2(s: str) -> bool:\n",
    "    Q = []\n",
    "    \n",
    "    if s == \"\" or s == \"*\":\n",
    "        return True\n",
    "    \n",
    "    for i in s:\n",
    "        if i == '(':\n",
    "            Q.append(i)\n",
    "        elif i == '*':\n",
    "            Q.append(i)\n",
    "        else:\n",
    "            if len(Q) == 0:\n",
    "                return False\n",
    "            else:\n",
    "                Q.pop()\n",
    "    \n",
    "    if len(Q) == 0:\n",
    "        return True\n",
    "    else:\n",
    "        S = []\n",
    "        for i in Q:\n",
    "            if i == '(':\n",
    "                S.append(i)\n",
    "            else:\n",
    "                if S:\n",
    "                    S.pop()\n",
    "        if S:\n",
    "            return False\n",
    "        else:\n",
    "            return True\n",
    "        "
   ]
  },
  {
   "cell_type": "code",
   "execution_count": 31,
   "metadata": {},
   "outputs": [
    {
     "data": {
      "text/plain": [
       "True"
      ]
     },
     "execution_count": 31,
     "metadata": {},
     "output_type": "execute_result"
    }
   ],
   "source": [
    "checkValidString2(\"(*()\") #should be true"
   ]
  },
  {
   "cell_type": "code",
   "execution_count": null,
   "metadata": {},
   "outputs": [],
   "source": []
  }
 ],
 "metadata": {
  "kernelspec": {
   "display_name": "Python 3",
   "language": "python",
   "name": "python3"
  },
  "language_info": {
   "codemirror_mode": {
    "name": "ipython",
    "version": 3
   },
   "file_extension": ".py",
   "mimetype": "text/x-python",
   "name": "python",
   "nbconvert_exporter": "python",
   "pygments_lexer": "ipython3",
   "version": "3.7.3"
  }
 },
 "nbformat": 4,
 "nbformat_minor": 2
}
