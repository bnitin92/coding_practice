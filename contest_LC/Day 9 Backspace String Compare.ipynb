{
 "cells": [
  {
   "cell_type": "markdown",
   "metadata": {},
   "source": [
    "## Given two strings S and T, return if they are equal when both are typed into empty text editors. # means a backspace character."
   ]
  },
  {
   "cell_type": "code",
   "execution_count": 13,
   "metadata": {},
   "outputs": [],
   "source": [
    "## Sol 1\n",
    "'''\n",
    "Runtime - O(N+N) = O(N)\n",
    "Space - O(2N)\n",
    "'''\n",
    "\n",
    "\n",
    "\n",
    "def backspaceCompare(S: str, T: str) -> bool:\n",
    "    \n",
    "    s_list = []\n",
    "    t_list = []\n",
    "    \n",
    "    for char in S:\n",
    "        if char == '#' and len(s_list) == 0:\n",
    "            pass\n",
    "        elif char == '#':\n",
    "            s_list.pop()\n",
    "        else:\n",
    "            s_list.append(char)\n",
    "    \n",
    "    for char in T:\n",
    "        if char == '#' and len(t_list) == 0:\n",
    "            pass\n",
    "        elif char == '#':\n",
    "            t_list.pop()\n",
    "        else:\n",
    "            t_list.append(char)\n",
    "            \n",
    "    return s_list == t_list"
   ]
  },
  {
   "cell_type": "code",
   "execution_count": 14,
   "metadata": {},
   "outputs": [
    {
     "data": {
      "text/plain": [
       "True"
      ]
     },
     "execution_count": 14,
     "metadata": {},
     "output_type": "execute_result"
    }
   ],
   "source": [
    "backspaceCompare(\"a##c\",\"#a#c\")"
   ]
  },
  {
   "cell_type": "code",
   "execution_count": null,
   "metadata": {},
   "outputs": [],
   "source": [
    "## Sol2 for constant space complexity\n",
    "\n"
   ]
  }
 ],
 "metadata": {
  "kernelspec": {
   "display_name": "Python 3",
   "language": "python",
   "name": "python3"
  },
  "language_info": {
   "codemirror_mode": {
    "name": "ipython",
    "version": 3
   },
   "file_extension": ".py",
   "mimetype": "text/x-python",
   "name": "python",
   "nbconvert_exporter": "python",
   "pygments_lexer": "ipython3",
   "version": "3.7.3"
  }
 },
 "nbformat": 4,
 "nbformat_minor": 2
}
