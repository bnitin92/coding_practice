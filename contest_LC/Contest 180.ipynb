{
 "cells": [
  {
   "cell_type": "code",
   "execution_count": 4,
   "metadata": {},
   "outputs": [],
   "source": [
    "# first\n",
    "import numpy as np\n",
    "\n",
    "def luckyNumbers(matrix):\n",
    "    \n",
    "    result = []\n",
    "    for row in range(len(matrix)):\n",
    "        \n",
    "        min_num = min(matrix[row])\n",
    "        \n",
    "        ind = matrix[row].index(min_num)\n",
    "        \n",
    "        temp_bool = []\n",
    "        for row2 in range(len(matrix)):\n",
    "            if min_num >= matrix[row2][ind]:\n",
    "                temp_bool.append(True)\n",
    "            else:\n",
    "                temp_bool.append(False)\n",
    "                \n",
    "        if np.prod(temp_bool) == 1:\n",
    "            result.append(min_num)\n",
    "            \n",
    "    return result\n",
    "            "
   ]
  },
  {
   "cell_type": "code",
   "execution_count": 5,
   "metadata": {},
   "outputs": [
    {
     "data": {
      "text/plain": [
       "[15]"
      ]
     },
     "execution_count": 5,
     "metadata": {},
     "output_type": "execute_result"
    }
   ],
   "source": [
    "luckyNumbers([[3,7,8],[9,11,13],[15,16,17]])"
   ]
  },
  {
   "cell_type": "code",
   "execution_count": null,
   "metadata": {},
   "outputs": [],
   "source": [
    "# Third\n",
    "\n",
    "# Definition for a binary tree node.\n",
    "class TreeNode:\n",
    "    def __init__(self, x):\n",
    "        self.val = x\n",
    "        self.left = None\n",
    "        self.right = None\n",
    "\n",
    "def balanceBST(root):\n",
    "    \n",
    "    for element in root:\n",
    "        "
   ]
  }
 ],
 "metadata": {
  "kernelspec": {
   "display_name": "Python 3",
   "language": "python",
   "name": "python3"
  },
  "language_info": {
   "codemirror_mode": {
    "name": "ipython",
    "version": 3
   },
   "file_extension": ".py",
   "mimetype": "text/x-python",
   "name": "python",
   "nbconvert_exporter": "python",
   "pygments_lexer": "ipython3",
   "version": "3.7.3"
  }
 },
 "nbformat": 4,
 "nbformat_minor": 2
}
