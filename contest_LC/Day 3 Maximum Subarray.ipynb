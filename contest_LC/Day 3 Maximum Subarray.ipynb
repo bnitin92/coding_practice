{
 "cells": [
  {
   "cell_type": "markdown",
   "metadata": {},
   "source": [
    "## Given an integer array nums, find the contiguous subarray (containing at least one number) which has the largest sum and return its sum."
   ]
  },
  {
   "cell_type": "code",
   "execution_count": 10,
   "metadata": {},
   "outputs": [],
   "source": [
    "## Sol 1\n",
    "def maxSubArray(nums):\n",
    "    maxi = 0\n",
    "    \n",
    "    if len(nums) == 1:\n",
    "        return nums[0]\n",
    "    \n",
    "    for i in range(len(nums)-1):\n",
    "        curr = nums[i]\n",
    "        #print(curr)\n",
    "        for j in range(i+1, len(nums)):\n",
    "            curr += nums[j]\n",
    "            if curr > maxi:\n",
    "                #print(maxi)\n",
    "                maxi = curr\n",
    "    \n",
    "    return maxi"
   ]
  },
  {
   "cell_type": "code",
   "execution_count": 11,
   "metadata": {},
   "outputs": [
    {
     "data": {
      "text/plain": [
       "1"
      ]
     },
     "execution_count": 11,
     "metadata": {},
     "output_type": "execute_result"
    }
   ],
   "source": [
    "maxSubArray([1])"
   ]
  },
  {
   "cell_type": "code",
   "execution_count": null,
   "metadata": {},
   "outputs": [],
   "source": []
  }
 ],
 "metadata": {
  "kernelspec": {
   "display_name": "Python 3",
   "language": "python",
   "name": "python3"
  },
  "language_info": {
   "codemirror_mode": {
    "name": "ipython",
    "version": 3
   },
   "file_extension": ".py",
   "mimetype": "text/x-python",
   "name": "python",
   "nbconvert_exporter": "python",
   "pygments_lexer": "ipython3",
   "version": "3.7.3"
  }
 },
 "nbformat": 4,
 "nbformat_minor": 2
}
