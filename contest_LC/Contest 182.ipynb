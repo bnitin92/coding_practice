{
 "cells": [
  {
   "cell_type": "code",
   "execution_count": 10,
   "metadata": {},
   "outputs": [],
   "source": [
    "# 1\n",
    "from collections import Counter\n",
    "\n",
    "def findLucky(arr):\n",
    "    Count = Counter(arr)\n",
    "    res = -1\n",
    "    print(Count)\n",
    "    for key, value in Count.items():\n",
    "        if key == value and res < key:\n",
    "            res = key\n",
    "        \n",
    "    return res\n"
   ]
  },
  {
   "cell_type": "code",
   "execution_count": 11,
   "metadata": {},
   "outputs": [
    {
     "name": "stdout",
     "output_type": "stream",
     "text": [
      "Counter({4: 3, 3: 3, 2: 2, 1: 1})\n"
     ]
    },
    {
     "data": {
      "text/plain": [
       "3"
      ]
     },
     "execution_count": 11,
     "metadata": {},
     "output_type": "execute_result"
    }
   ],
   "source": [
    "findLucky([4,3,2,2,4,1,3,4,3])"
   ]
  },
  {
   "cell_type": "code",
   "execution_count": 22,
   "metadata": {},
   "outputs": [
    {
     "name": "stdout",
     "output_type": "stream",
     "text": [
      "0 2 3\n"
     ]
    },
    {
     "data": {
      "text/plain": [
       "2"
      ]
     },
     "execution_count": 22,
     "metadata": {},
     "output_type": "execute_result"
    }
   ],
   "source": [
    "#2 \n",
    "\n",
    "def numTeams(rating):\n",
    "    \n",
    "    teams = 0\n",
    "    \n",
    "    l = len(rating)\n",
    "    for i in range(0, l):\n",
    "        for j in range(i+1,l):\n",
    "            for k in range(j+1,l):\n",
    "                if rating[i] < rating[j] < rating[k]:\n",
    "                    teams += 1\n",
    "                    print(i,j,k)\n",
    "    \n",
    "    rating.reverse()\n",
    "    for i in range(0, l):\n",
    "        for j in range(i+1,l):\n",
    "            for k in range(j+1,l):\n",
    "                if rating[i] > rating[j] > rating[k]:\n",
    "                    teams += 1\n",
    "                    #print(i,j,k)\n",
    "    return teams\n",
    "        \n",
    "numTeams([2,5,3,4,1])"
   ]
  },
  {
   "cell_type": "code",
   "execution_count": null,
   "metadata": {},
   "outputs": [],
   "source": []
  }
 ],
 "metadata": {
  "kernelspec": {
   "display_name": "Python 3",
   "language": "python",
   "name": "python3"
  },
  "language_info": {
   "codemirror_mode": {
    "name": "ipython",
    "version": 3
   },
   "file_extension": ".py",
   "mimetype": "text/x-python",
   "name": "python",
   "nbconvert_exporter": "python",
   "pygments_lexer": "ipython3",
   "version": "3.7.3"
  }
 },
 "nbformat": 4,
 "nbformat_minor": 2
}
