{
 "cells": [
  {
   "cell_type": "code",
   "execution_count": 2,
   "metadata": {},
   "outputs": [
    {
     "data": {
      "text/plain": [
       "'\\nnewString = \"\".join(e for e in s if e.isalnum())\\n'"
      ]
     },
     "execution_count": 2,
     "metadata": {},
     "output_type": "execute_result"
    }
   ],
   "source": [
    "# how to filter alphanumeric characters and remove special characers and spaces\n",
    "\"\"\"\n",
    "newString = \"\".join(e for e in s if e.isalnum())\n",
    "\"\"\"\n"
   ]
  },
  {
   "cell_type": "code",
   "execution_count": 3,
   "metadata": {},
   "outputs": [
    {
     "data": {
      "text/plain": [
       "'\\n newString = newString.lower()\\n \\n'"
      ]
     },
     "execution_count": 3,
     "metadata": {},
     "output_type": "execute_result"
    }
   ],
   "source": [
    "# to convert to lower characters\n",
    "\n",
    "\"\"\"\n",
    " newString = newString.lower()\n",
    " \n",
    "\"\"\""
   ]
  },
  {
   "cell_type": "code",
   "execution_count": 2,
   "metadata": {},
   "outputs": [
    {
     "data": {
      "text/plain": [
       "'\\nmath.log(8,2) --> 3\\n\\nmath.log(number, base)\\n'"
      ]
     },
     "execution_count": 2,
     "metadata": {},
     "output_type": "execute_result"
    }
   ],
   "source": [
    "# log wiht any base\n",
    "\n",
    "\"\"\"\n",
    "math.log(8,2) --> 3\n",
    "\n",
    "math.log(number, base)\n",
    "\"\"\"\n",
    "\n",
    "# doesn't work with negative"
   ]
  },
  {
   "cell_type": "code",
   "execution_count": 3,
   "metadata": {},
   "outputs": [
    {
     "data": {
      "text/plain": [
       "'\\nimport re\\n\\npattern = \\'^a...s$\\'\\ntest_string = \\'abyss\\'\\nresult = re.match(pattern, test_string)\\n\\nif result:\\n  print(\"Search successful.\")\\nelse:\\n  print(\"Search unsuccessful.\")\\t\\n'"
      ]
     },
     "execution_count": 3,
     "metadata": {},
     "output_type": "execute_result"
    }
   ],
   "source": [
    "# using regular expressions\n",
    "\n",
    "\"\"\"\n",
    "import re\n",
    "\n",
    "pattern = '^a...s$'\n",
    "test_string = 'abyss'\n",
    "result = re.match(pattern, test_string)\n",
    "\n",
    "if result:\n",
    "  print(\"Search successful.\")\n",
    "else:\n",
    "  print(\"Search unsuccessful.\")\t\n",
    "\"\"\""
   ]
  },
  {
   "cell_type": "code",
   "execution_count": 1,
   "metadata": {},
   "outputs": [
    {
     "data": {
      "text/plain": [
       "'\\nb = sorted(a)\\n'"
      ]
     },
     "execution_count": 1,
     "metadata": {},
     "output_type": "execute_result"
    }
   ],
   "source": [
    "# using sorted you need to store it also\n",
    "\n",
    "\"\"\"\n",
    "b = sorted(a)\n",
    "\"\"\""
   ]
  },
  {
   "cell_type": "code",
   "execution_count": 1,
   "metadata": {},
   "outputs": [
    {
     "data": {
      "text/plain": [
       "\"\\n>>> def_dict = defaultdict(list)  # Pass list to .default_factory\\n>>> def_dict['one'] = 1  # Add a key-value pair\\n>>> def_dict['missing']  # Access a missing key returns an empty list\\n[]\\n>>> def_dict['another_missing'].append(4)  # Modify a missing key\\n>>> def_dict\\ndefaultdict(<class 'list'>, {'one': 1, 'missing': [], 'another_missing': [4]})\\n\""
      ]
     },
     "execution_count": 1,
     "metadata": {},
     "output_type": "execute_result"
    }
   ],
   "source": [
    "# defaultdict() in python\n",
    "\n",
    "url = \"https://realpython.com/python-defaultdict/#:~:text=The%20main%20difference%20between%20defaultdict,It%20overrides%20.\"\n",
    "\"\"\"\n",
    "The main difference between defaultdict and dict is that when you try to access or modify a key \n",
    "that’s not present in the dictionary, a default value is automatically given to that key. \n",
    "\n",
    "\"\"\"\n",
    "\n",
    "\"\"\"\n",
    ">>> def_dict = defaultdict(list)  # Pass list to .default_factory\n",
    ">>> def_dict['one'] = 1  # Add a key-value pair\n",
    ">>> def_dict['missing']  # Access a missing key returns an empty list\n",
    "[]\n",
    ">>> def_dict['another_missing'].append(4)  # Modify a missing key\n",
    ">>> def_dict\n",
    "defaultdict(<class 'list'>, {'one': 1, 'missing': [], 'another_missing': [4]})\n",
    "\"\"\""
   ]
  },
  {
   "cell_type": "code",
   "execution_count": 1,
   "metadata": {},
   "outputs": [
    {
     "data": {
      "text/plain": [
       "\"\\na = ['1']\\n\\nlist(a) ==> ['1']\\n\""
      ]
     },
     "execution_count": 1,
     "metadata": {},
     "output_type": "execute_result"
    }
   ],
   "source": [
    "# list(list) == list doesnt change\n",
    "\n",
    "\"\"\"\n",
    "a = ['1']\n",
    "\n",
    "list(a) ==> ['1']\n",
    "\"\"\"\n",
    "\n"
   ]
  },
  {
   "cell_type": "code",
   "execution_count": null,
   "metadata": {},
   "outputs": [],
   "source": [
    "# to get values of given key in a dictionary\n",
    "\n",
    "\"\"\"\n",
    "dict_name.get(key, []) ==> list of values\n",
    "empty list if None\n",
    "\"\"\""
   ]
  }
 ],
 "metadata": {
  "kernelspec": {
   "display_name": "Python 3",
   "language": "python",
   "name": "python3"
  },
  "language_info": {
   "codemirror_mode": {
    "name": "ipython",
    "version": 3
   },
   "file_extension": ".py",
   "mimetype": "text/x-python",
   "name": "python",
   "nbconvert_exporter": "python",
   "pygments_lexer": "ipython3",
   "version": "3.7.6"
  }
 },
 "nbformat": 4,
 "nbformat_minor": 4
}
