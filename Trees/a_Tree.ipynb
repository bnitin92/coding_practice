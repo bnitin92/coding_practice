{
 "cells": [
  {
   "cell_type": "code",
   "execution_count": 1,
   "metadata": {},
   "outputs": [],
   "source": [
    "## Tree Node\n",
    "\n",
    "class TreeNode:\n",
    "    def __init__(self, x):\n",
    "        self.val = x\n",
    "        self.left = None\n",
    "        self.right = None\n"
   ]
  },
  {
   "cell_type": "code",
   "execution_count": 2,
   "metadata": {},
   "outputs": [],
   "source": [
    "# inserting some root\n",
    "\n",
    "if __name__ == '__main__':\n",
    "    root = TreeNode(1)  \n",
    "    root.left = None  \n",
    "    root.right = TreeNode(2)  \n",
    "    root.right.left = TreeNode(3)    \n",
    "    root.right.right = None"
   ]
  },
  {
   "cell_type": "code",
   "execution_count": 3,
   "metadata": {},
   "outputs": [],
   "source": [
    "print(root.right.val)"
   ]
  },
  {
   "cell_type": "code",
   "execution_count": 5,
   "metadata": {},
   "outputs": [
    {
     "name": "stdout",
     "output_type": "stream",
     "text": [
      "Pixiedust database opened successfully\n"
     ]
    },
    {
     "data": {
      "text/html": [
       "\n",
       "        <div style=\"margin:10px\">\n",
       "            <a href=\"https://github.com/ibm-watson-data-lab/pixiedust\" target=\"_new\">\n",
       "                <img src=\"https://github.com/ibm-watson-data-lab/pixiedust/raw/master/docs/_static/pd_icon32.png\" style=\"float:left;margin-right:10px\"/>\n",
       "            </a>\n",
       "            <span>Pixiedust version 1.1.18</span>\n",
       "        </div>\n",
       "        "
      ],
      "text/plain": [
       "<IPython.core.display.HTML object>"
      ]
     },
     "metadata": {},
     "output_type": "display_data"
    }
   ],
   "source": [
    "import pixiedust\n",
    "from IPython.core.debugger import set_trace\n"
   ]
  },
  {
   "cell_type": "code",
   "execution_count": 8,
   "metadata": {
    "pixiedust": {
     "displayParams": {}
    }
   },
   "outputs": [],
   "source": [
    "# with a helper function\n",
    "def preorderTraversal(root):\n",
    "    \n",
    "    pre_ord = []\n",
    "    dfs(root, pre_ord)\n",
    "    \n",
    "    return pre_ord\n",
    "\n",
    "def dfs(root, pre_ord):\n",
    "    if root:\n",
    "        pre_ord.append(root.val)\n",
    "        dfs(root.left, pre_ord)\n",
    "        dfs(root.right, pre_ord)\n",
    "    "
   ]
  },
  {
   "cell_type": "code",
   "execution_count": 9,
   "metadata": {
    "pixiedust": {
     "displayParams": {}
    }
   },
   "outputs": [
    {
     "data": {
      "text/plain": [
       "[1, 2, 3]"
      ]
     },
     "execution_count": 9,
     "metadata": {},
     "output_type": "execute_result"
    }
   ],
   "source": [
    "#%%pixie_debugger\n",
    "\n",
    "preorderTraversal(root)"
   ]
  },
  {
   "cell_type": "code",
   "execution_count": 20,
   "metadata": {},
   "outputs": [],
   "source": [
    "# without a helper function\n",
    "\n",
    "pre_ord = []\n",
    "\n",
    "def preorderTraversal1(root):\n",
    "    #pre_ord = []\n",
    "    if root != None:\n",
    "        pre_ord.append(root.val)\n",
    "#         pre_ord.append(preorderTraversal(root.left))\n",
    "#         pre_ord.append(preorderTraversal(root.right))\n",
    "        preorderTraversal(root.left)\n",
    "        preorderTraversal(root.right)\n",
    "    return pre_ord"
   ]
  },
  {
   "cell_type": "code",
   "execution_count": 21,
   "metadata": {},
   "outputs": [
    {
     "data": {
      "text/plain": [
       "[1]"
      ]
     },
     "execution_count": 21,
     "metadata": {},
     "output_type": "execute_result"
    }
   ],
   "source": [
    "preorderTraversal1(root)"
   ]
  },
  {
   "cell_type": "code",
   "execution_count": 24,
   "metadata": {},
   "outputs": [],
   "source": [
    "# iterative preorder\n",
    "\n",
    "def preorderTraversal2(root):\n",
    "    res = []\n",
    "    stack = [root]\n",
    "    \n",
    "    while stack:\n",
    "        node = stack.pop()\n",
    "        if node != None:\n",
    "            res.append(node.val)\n",
    "            stack.append(node.right)\n",
    "            stack.append(node.left)\n",
    "            \n",
    "    return res\n"
   ]
  },
  {
   "cell_type": "code",
   "execution_count": 25,
   "metadata": {},
   "outputs": [
    {
     "data": {
      "text/plain": [
       "[1, 2, 3]"
      ]
     },
     "execution_count": 25,
     "metadata": {},
     "output_type": "execute_result"
    }
   ],
   "source": [
    "preorderTraversal2(root)"
   ]
  },
  {
   "cell_type": "code",
   "execution_count": 32,
   "metadata": {},
   "outputs": [],
   "source": [
    "# inorder traversal L r R\n",
    "# recursive with helper\n",
    "\n",
    "def inorderTraversal(root):\n",
    "    res = []\n",
    "    helper(root, res)\n",
    "    \n",
    "    return res\n",
    "\n",
    "def helper(root, res):\n",
    "    if root != None:\n",
    "        if root.left != None:\n",
    "            helper(root.left, res) # every call is a function going inside and will comeout eventually\n",
    "        \n",
    "        res.append(root.val)\n",
    "        if root.right != None:\n",
    "            helper(root.right, res)\n",
    "        \n",
    "        \n",
    "    "
   ]
  },
  {
   "cell_type": "code",
   "execution_count": 33,
   "metadata": {},
   "outputs": [
    {
     "data": {
      "text/plain": [
       "[1, 3, 2]"
      ]
     },
     "execution_count": 33,
     "metadata": {},
     "output_type": "execute_result"
    }
   ],
   "source": [
    "inorderTraversal(root)"
   ]
  },
  {
   "cell_type": "code",
   "execution_count": 30,
   "metadata": {},
   "outputs": [],
   "source": [
    "# inorder traversal (iterative)L r R\n",
    "def inorderTraversal1(root):\n",
    "    res = []\n",
    "    stack = []\n",
    "    curr = root\n",
    "    \n",
    "    while stack or curr != None:\n",
    "        while curr != None:\n",
    "            stack.append(curr)\n",
    "            curr = curr.left\n",
    "        curr = stack.pop()\n",
    "        res.append(curr.val)\n",
    "        curr = curr.right\n",
    "        \n",
    "    return res\n"
   ]
  },
  {
   "cell_type": "code",
   "execution_count": 31,
   "metadata": {},
   "outputs": [
    {
     "data": {
      "text/plain": [
       "[1, 3, 2]"
      ]
     },
     "execution_count": 31,
     "metadata": {},
     "output_type": "execute_result"
    }
   ],
   "source": [
    "inorderTraversal1(root)"
   ]
  },
  {
   "cell_type": "code",
   "execution_count": 34,
   "metadata": {},
   "outputs": [],
   "source": [
    "# postorder taversal L R r\n",
    "# recursive\n",
    "def postorderTraversal(root):\n",
    "    res = []\n",
    "    helper(root, res)\n",
    "    \n",
    "    return res\n",
    "\n",
    "def helper(root, res):\n",
    "    if root != None:\n",
    "        if root.left != None:\n",
    "            helper(root.left, res)\n",
    "        if root.right != None:\n",
    "            helper(root.right, res)\n",
    "        res.append(root.val)\n",
    "        \n",
    "        "
   ]
  },
  {
   "cell_type": "code",
   "execution_count": 37,
   "metadata": {},
   "outputs": [
    {
     "data": {
      "text/plain": [
       "[3, 2, 1]"
      ]
     },
     "execution_count": 37,
     "metadata": {},
     "output_type": "execute_result"
    }
   ],
   "source": [
    "postorderTraversal(root)"
   ]
  },
  {
   "cell_type": "code",
   "execution_count": 38,
   "metadata": {},
   "outputs": [
    {
     "ename": "SyntaxError",
     "evalue": "unexpected EOF while parsing (<ipython-input-38-c049bf58b4c0>, line 10)",
     "output_type": "error",
     "traceback": [
      "\u001b[0;36m  File \u001b[0;32m\"<ipython-input-38-c049bf58b4c0>\"\u001b[0;36m, line \u001b[0;32m10\u001b[0m\n\u001b[0;31m    while curr.left != None:\u001b[0m\n\u001b[0m                            ^\u001b[0m\n\u001b[0;31mSyntaxError\u001b[0m\u001b[0;31m:\u001b[0m unexpected EOF while parsing\n"
     ]
    }
   ],
   "source": [
    "# postorder traversal L R r\n",
    "# iterative\n",
    "\n",
    "def postorderTraversal(root):\n",
    "    res = []\n",
    "    stack = []\n",
    "    curr = root\n",
    "    \n",
    "    while stack or curr != None:\n",
    "        while curr != None:\n",
    "            stack.append(curr)\n",
    "            curr = curr.left\n",
    "        curr = stack.pop()\n",
    "        curr = curr.right\n",
    "        res.append(curr.val)\n",
    "        "
   ]
  },
  {
   "cell_type": "code",
   "execution_count": 1,
   "metadata": {},
   "outputs": [
    {
     "data": {
      "text/plain": [
       "0"
      ]
     },
     "execution_count": 1,
     "metadata": {},
     "output_type": "execute_result"
    }
   ],
   "source": []
  }
 ],
 "metadata": {
  "kernelspec": {
   "display_name": "Python 3",
   "language": "python",
   "name": "python3"
  },
  "language_info": {
   "codemirror_mode": {
    "name": "ipython",
    "version": 3
   },
   "file_extension": ".py",
   "mimetype": "text/x-python",
   "name": "python",
   "nbconvert_exporter": "python",
   "pygments_lexer": "ipython3",
   "version": "3.7.6"
  }
 },
 "nbformat": 4,
 "nbformat_minor": 2
}
