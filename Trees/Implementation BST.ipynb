{
 "cells": [
  {
   "cell_type": "code",
   "execution_count": 1,
   "metadata": {},
   "outputs": [],
   "source": [
    "# Udacity\n",
    "\n",
    "class Node(object):\n",
    "    def __init__(self, value):\n",
    "        self.value = value\n",
    "        self.left = None\n",
    "        self.right = None\n",
    "\n",
    "class BST(object):\n",
    "    def __init__(self, root):\n",
    "        self.root = Node(root)\n",
    "\n",
    "    def insert(self, new_val):\n",
    "        curr = self.root\n",
    "        \n",
    "        while curr:\n",
    "            if curr.value > new_val:\n",
    "                if curr.left:\n",
    "                    curr = curr.left\n",
    "                else:\n",
    "                    curr.left = Node(new_val)\n",
    "                    break\n",
    "            else:\n",
    "                if curr.right:\n",
    "                    curr = curr.right\n",
    "                else:\n",
    "                    curr.right = Node(new_val)\n",
    "                    break\n",
    "    \n",
    "    # def insert(self, new_val):\n",
    "    #     self.insert_helper(self.root, new_val)\n",
    "\n",
    "    # def insert_helper(self, current, new_val):\n",
    "    #     if current.value < new_val:\n",
    "    #         if current.right:\n",
    "    #             self.insert_helper(current.right, new_val)\n",
    "    #         else:\n",
    "    #             current.right = Node(new_val)\n",
    "    #     else:\n",
    "    #         if current.left:\n",
    "    #             self.insert_helper(current.left, new_val)\n",
    "    #         else:\n",
    "    #             current.left = Node(new_val)\n",
    "\n",
    "    def search(self, find_val):\n",
    "        curr = self.root\n",
    "        \n",
    "        while curr:\n",
    "            if find_val < curr.value:\n",
    "                curr = curr.left\n",
    "            elif find_val > curr.value:\n",
    "                curr = curr.right\n",
    "            else:\n",
    "                return True\n",
    "                \n",
    "        return False\n",
    "    \n"
   ]
  },
  {
   "cell_type": "code",
   "execution_count": 2,
   "metadata": {},
   "outputs": [
    {
     "ename": "SyntaxError",
     "evalue": "invalid syntax (<ipython-input-2-70556019ff8a>, line 12)",
     "output_type": "error",
     "traceback": [
      "\u001b[0;36m  File \u001b[0;32m\"<ipython-input-2-70556019ff8a>\"\u001b[0;36m, line \u001b[0;32m12\u001b[0m\n\u001b[0;31m    print tree.search(4)\u001b[0m\n\u001b[0m             ^\u001b[0m\n\u001b[0;31mSyntaxError\u001b[0m\u001b[0;31m:\u001b[0m invalid syntax\n"
     ]
    }
   ],
   "source": [
    "# Set up tree\n",
    "tree = BST(4)\n",
    "\n",
    "# Insert elements\n",
    "tree.insert(2)\n",
    "tree.insert(1)\n",
    "tree.insert(3)\n",
    "tree.insert(5)\n",
    "\n",
    "# Check search\n",
    "# Should be True\n",
    "print tree.search(4)\n",
    "# Should be False\n",
    "print tree.search(6)"
   ]
  },
  {
   "cell_type": "code",
   "execution_count": null,
   "metadata": {},
   "outputs": [],
   "source": []
  }
 ],
 "metadata": {
  "kernelspec": {
   "display_name": "Python 3",
   "language": "python",
   "name": "python3"
  },
  "language_info": {
   "codemirror_mode": {
    "name": "ipython",
    "version": 3
   },
   "file_extension": ".py",
   "mimetype": "text/x-python",
   "name": "python",
   "nbconvert_exporter": "python",
   "pygments_lexer": "ipython3",
   "version": "3.7.6"
  }
 },
 "nbformat": 4,
 "nbformat_minor": 4
}
