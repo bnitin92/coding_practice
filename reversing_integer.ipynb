{
 "cells": [
  {
   "cell_type": "markdown",
   "metadata": {},
   "source": [
    "### My solution"
   ]
  },
  {
   "cell_type": "code",
   "execution_count": 4,
   "metadata": {},
   "outputs": [],
   "source": [
    "class Solution:\n",
    "    def reverse(self, x: int) -> int:\n",
    "        a = abs(x)\n",
    "        l = len(str(a)) #length can only be counted for strings not integers\n",
    "        r = []\n",
    "        d = a\n",
    "        result = 0\n",
    "        \n",
    "        for i in range(l):\n",
    "            r.append(d%10)\n",
    "            d = d//10\n",
    "        \n",
    "        for i in range(l):\n",
    "            result =  result + r[i] * 10**(l-(i+1))\n",
    "        \n",
    "        if result > 2147483648 or result < -2147483648:\n",
    "            return 0\n",
    "        elif x == abs(x):\n",
    "            return result\n",
    "        else:\n",
    "            return result * -1"
   ]
  },
  {
   "cell_type": "code",
   "execution_count": 16,
   "metadata": {},
   "outputs": [
    {
     "name": "stdout",
     "output_type": "stream",
     "text": [
      "-987654321 321\n"
     ]
    }
   ],
   "source": [
    "t = Solution()\n",
    "\n",
    "print(t.reverse(-123456789), t.reverse(123))"
   ]
  },
  {
   "cell_type": "code",
   "execution_count": 67,
   "metadata": {},
   "outputs": [],
   "source": [
    "def reverse2(x):\n",
    "    a = str(abs(x))\n",
    "    result  = 0\n",
    "    if x == abs(x):\n",
    "        result = int(a[::-1])\n",
    "    else:\n",
    "        result = int(a[::-1]) * -1\n",
    "        \n",
    "    if result <= -2**31 or result >= 2**31:\n",
    "        return 0\n",
    "    else:\n",
    "        return result\n",
    "    "
   ]
  },
  {
   "cell_type": "code",
   "execution_count": null,
   "metadata": {},
   "outputs": [],
   "source": []
  },
  {
   "cell_type": "code",
   "execution_count": 82,
   "metadata": {},
   "outputs": [
    {
     "data": {
      "text/plain": [
       "0"
      ]
     },
     "execution_count": 82,
     "metadata": {},
     "output_type": "execute_result"
    }
   ],
   "source": [
    "reverse2(-123324542)"
   ]
  },
  {
   "cell_type": "code",
   "execution_count": 26,
   "metadata": {},
   "outputs": [
    {
     "data": {
      "text/plain": [
       "321"
      ]
     },
     "execution_count": 26,
     "metadata": {},
     "output_type": "execute_result"
    }
   ],
   "source": [
    "a = -123\n",
    "b = str(abs(a))\n",
    "int(b[::-1])\n"
   ]
  }
 ],
 "metadata": {
  "kernelspec": {
   "display_name": "Python 3",
   "language": "python",
   "name": "python3"
  },
  "language_info": {
   "codemirror_mode": {
    "name": "ipython",
    "version": 3
   },
   "file_extension": ".py",
   "mimetype": "text/x-python",
   "name": "python",
   "nbconvert_exporter": "python",
   "pygments_lexer": "ipython3",
   "version": "3.7.3"
  }
 },
 "nbformat": 4,
 "nbformat_minor": 2
}
